{
 "cells": [
  {
   "cell_type": "code",
   "execution_count": 94,
   "source": [
    "import pandas as pd\n",
    "import numpy as np\n",
    "import matplotlib.pyplot as plt\n",
    "import matplotlib.dates as mdates\n"
   ],
   "outputs": [],
   "metadata": {}
  },
  {
   "cell_type": "code",
   "execution_count": 95,
   "source": [
    "df = pd.read_csv('logs2.log', sep=';')\n",
    "df.loc[df['pods'] == 0.0, 'pods'] = np.nan\n",
    "df = df[df['pods'].notna()]\n",
    "\n",
    "print(df.head())\n",
    "print(len(df))"
   ],
   "outputs": [
    {
     "output_type": "stream",
     "name": "stdout",
     "text": [
      "               timestamp                           node  renewable_share  \\\n",
      "0   2021/10/14 10:15:26   ip-172-20-49-155.ec2.internal           2176.0   \n",
      "5   2021/10/14 10:16:26   ip-172-20-49-155.ec2.internal           2487.8   \n",
      "7   2021/10/14 10:17:26   ip-172-20-49-155.ec2.internal           3896.6   \n",
      "10  2021/10/14 10:18:26   ip-172-20-49-155.ec2.internal           8404.3   \n",
      "14  2021/10/14 10:19:26   ip-172-20-49-155.ec2.internal           8029.2   \n",
      "\n",
      "    score  pods  \n",
      "0      10   1.0  \n",
      "5      10   1.0  \n",
      "7      10   1.0  \n",
      "10     10   1.0  \n",
      "14     10   1.0  \n",
      "144\n"
     ]
    }
   ],
   "metadata": {}
  },
  {
   "cell_type": "code",
   "execution_count": 96,
   "source": [
    "\n",
    "index = pd.date_range(start = \"2020-06-01 00:00\", end = \"2020-06-01 23:50\", freq = \"10min\")\n",
    "index = [pd.to_datetime(date, format='%Y-%m-%d %H:%M') for date in index]\n",
    "\n",
    "df['timestamp'] =  index\n",
    "\n",
    "df = df.set_index('timestamp')\n",
    "df.drop(['renewable_share', 'score'], axis=1, inplace=True)\n",
    "print(len(df))\n",
    "print(df.head(20))"
   ],
   "outputs": [
    {
     "output_type": "stream",
     "name": "stdout",
     "text": [
      "144\n",
      "                                              node  pods\n",
      "timestamp                                               \n",
      "2020-06-01 00:00:00  ip-172-20-49-155.ec2.internal   1.0\n",
      "2020-06-01 00:10:00  ip-172-20-49-155.ec2.internal   1.0\n",
      "2020-06-01 00:20:00  ip-172-20-49-155.ec2.internal   1.0\n",
      "2020-06-01 00:30:00  ip-172-20-49-155.ec2.internal   1.0\n",
      "2020-06-01 00:40:00  ip-172-20-49-155.ec2.internal   1.0\n",
      "2020-06-01 00:50:00  ip-172-20-49-155.ec2.internal   1.0\n",
      "2020-06-01 01:00:00  ip-172-20-49-155.ec2.internal   1.0\n",
      "2020-06-01 01:10:00  ip-172-20-49-155.ec2.internal   1.0\n",
      "2020-06-01 01:20:00  ip-172-20-49-155.ec2.internal   1.0\n",
      "2020-06-01 01:30:00  ip-172-20-49-155.ec2.internal   1.0\n",
      "2020-06-01 01:40:00  ip-172-20-49-155.ec2.internal   1.0\n",
      "2020-06-01 01:50:00  ip-172-20-49-155.ec2.internal   1.0\n",
      "2020-06-01 02:00:00  ip-172-20-49-155.ec2.internal   1.0\n",
      "2020-06-01 02:10:00  ip-172-20-49-155.ec2.internal   1.0\n",
      "2020-06-01 02:20:00  ip-172-20-49-155.ec2.internal   1.0\n",
      "2020-06-01 02:30:00  ip-172-20-49-155.ec2.internal   1.0\n",
      "2020-06-01 02:40:00  ip-172-20-49-155.ec2.internal   1.0\n",
      "2020-06-01 02:50:00  ip-172-20-49-155.ec2.internal   1.0\n",
      "2020-06-01 03:00:00  ip-172-20-49-155.ec2.internal   1.0\n",
      "2020-06-01 03:10:00  ip-172-20-49-155.ec2.internal   1.0\n"
     ]
    }
   ],
   "metadata": {}
  },
  {
   "cell_type": "code",
   "execution_count": 97,
   "source": [
    "col = []\n",
    "for val in df['node']:\n",
    "    if val == 'ip-172-20-49-155.ec2.internal':\n",
    "        col.append('lightblue')\n",
    "    elif val == 'ip-172-20-58-122.ec2.internal':\n",
    "        col.append('lightcoral')\n",
    "    else:\n",
    "        col.append('mediumaquamarine')\n",
    "        \n",
    "\n",
    "fig = plt.figure(figsize=(12,4))\n",
    "plt.yticks(np.arange(0, 2, step=1))\n",
    "plt.bar(df.index, df['pods'], color = col, width=0.007, align='edge')\n",
    "\n",
    "# set monthly locator\n",
    "plt.gca().xaxis.set_major_locator(mdates.HourLocator(interval=2))\n",
    "# set formatter\n",
    "plt.gca().xaxis.set_major_formatter(mdates.DateFormatter('%Y-%m-%d %H:%M'))\n",
    "\n",
    "plt.gcf().autofmt_xdate()\n",
    "\n",
    "plt.show()\n",
    "\n"
   ],
   "outputs": [
    {
     "output_type": "display_data",
     "data": {
      "image/png": "[encoded data removed]",
      "text/plain": [
       "<Figure size 864x288 with 1 Axes>"
      ]
     },
     "metadata": {
      "needs_background": "light"
     }
    }
   ],
   "metadata": {}
  }
 ],
 "metadata": {
  "orig_nbformat": 4,
  "language_info": {
   "name": "python",
   "version": "3.8.2",
   "mimetype": "text/x-python",
   "codemirror_mode": {
    "name": "ipython",
    "version": 3
   },
   "pygments_lexer": "ipython3",
   "nbconvert_exporter": "python",
   "file_extension": ".py"
  },
  "kernelspec": {
   "name": "python3",
   "display_name": "Python 3.8.2 64-bit"
  },
  "interpreter": {
   "hash": "31f2aee4e71d21fbe5cf8b01ff0e069b9275f58929596ceb00d14d90e3e16cd6"
  }
 },
 "nbformat": 4,
 "nbformat_minor": 2
}